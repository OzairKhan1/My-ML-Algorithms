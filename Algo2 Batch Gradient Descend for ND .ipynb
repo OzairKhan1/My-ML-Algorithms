{
 "cells": [
  {
   "cell_type": "markdown",
   "id": "5c3082e3-8e23-4091-bb18-b301a78a0e12",
   "metadata": {},
   "source": [
    "# Batch Gradient Descent for nd data and linear Regression "
   ]
  },
  {
   "cell_type": "code",
   "execution_count": 3,
   "id": "12364535-e4cf-4772-bb7a-338aa3decaac",
   "metadata": {},
   "outputs": [],
   "source": [
    "import numpy as np\n",
    "import pandas as pd\n",
    "import matplotlib.pyplot as plt\n",
    "from sklearn.linear_model import LinearRegression\n",
    "from sklearn.model_selection import train_test_split\n",
    "from sklearn.datasets import make_regression\n",
    "from sklearn.metrics import r2_score\n",
    "from sklearn.datasets import load_diabetes"
   ]
  },
  {
   "cell_type": "code",
   "execution_count": 4,
   "id": "0744f45c-5550-4293-bf30-303b32397d19",
   "metadata": {},
   "outputs": [],
   "source": [
    "X,y = load_diabetes(return_X_y=True)"
   ]
  },
  {
   "cell_type": "code",
   "execution_count": 5,
   "id": "e12e9ad0-111a-43c9-9ed1-5971fc5b44a6",
   "metadata": {},
   "outputs": [
    {
     "data": {
      "text/plain": [
       "(442, 10)"
      ]
     },
     "execution_count": 5,
     "metadata": {},
     "output_type": "execute_result"
    }
   ],
   "source": [
    "X.shape"
   ]
  },
  {
   "cell_type": "code",
   "execution_count": 6,
   "id": "eab06973-2c28-4350-9952-0a438ca42889",
   "metadata": {},
   "outputs": [],
   "source": [
    "Xtrain,Xtest,ytrain,ytest = train_test_split(X,y,test_size=0.2,random_state = 2)"
   ]
  },
  {
   "cell_type": "code",
   "execution_count": 7,
   "id": "c46953ad-8df4-48c7-858c-98d8b05968f9",
   "metadata": {},
   "outputs": [
    {
     "name": "stdout",
     "output_type": "stream",
     "text": [
      "Coefiecent:  [  -9.15865318 -205.45432163  516.69374454  340.61999905 -895.5520019\n",
      "  561.22067904  153.89310954  126.73139688  861.12700152   52.42112238]\n",
      "\n",
      "Intercept:  151.88331005254167\n"
     ]
    }
   ],
   "source": [
    "lr = LinearRegression()\n",
    "lr.fit(Xtrain,ytrain)\n",
    "print(\"Coefiecent: \",lr.coef_)\n",
    "print()\n",
    "print(\"Intercept: \",lr.intercept_)"
   ]
  },
  {
   "cell_type": "code",
   "execution_count": 8,
   "id": "2be48999-d926-4807-af76-4321de39afa3",
   "metadata": {},
   "outputs": [],
   "source": [
    "predit = lr.predict(Xtest)"
   ]
  },
  {
   "cell_type": "code",
   "execution_count": 9,
   "id": "05ac2dc3-d4cb-4408-a989-544eb35a7608",
   "metadata": {},
   "outputs": [
    {
     "data": {
      "text/plain": [
       "0.4399338661568968"
      ]
     },
     "execution_count": 9,
     "metadata": {},
     "output_type": "execute_result"
    }
   ],
   "source": [
    "r2s = r2_score(ytest,predit)\n",
    "r2s"
   ]
  },
  {
   "cell_type": "markdown",
   "id": "5980135c-2a0d-49c5-b1b4-9e37ab3176c2",
   "metadata": {},
   "source": [
    "# MY Class for Gradient Descent"
   ]
  },
  {
   "cell_type": "markdown",
   "id": "3a61fc6e-058b-4885-a81e-97208f0622aa",
   "metadata": {},
   "source": [
    "#### The Summation is incorporated by the dot product while calculation gradients"
   ]
  },
  {
   "cell_type": "markdown",
   "id": "f1bf7b0c-ff89-44eb-9367-af81eb6834a8",
   "metadata": {},
   "source": [
    "$$\n",
    "\\text{intercept} = \\frac{-2}{n} \\sum (y_i - \\hat{y}_i)\n",
    "$$\n"
   ]
  },
  {
   "cell_type": "markdown",
   "id": "8f115f3e-bf1f-462b-9254-424107da8fc6",
   "metadata": {},
   "source": [
    "$$\n",
    "\\text{coef} = \\frac{-2}{n} \\sum (y_i - \\hat{y}_i) \\cdot X_{im}\n",
    "$$\n"
   ]
  },
  {
   "cell_type": "raw",
   "id": "e41ed770-6c7e-4107-ab91-475e855dea87",
   "metadata": {},
   "source": [
    "The above 2 formulas will be used to update the slopes for the next iteration. The coefficient matrix contains the number of cols in the input"
   ]
  },
  {
   "cell_type": "code",
   "execution_count": 20,
   "id": "8ad49aee-93b8-4139-9b5b-9e568750af7c",
   "metadata": {},
   "outputs": [],
   "source": [
    "class GdRegressor:\n",
    "    def __init__(self,lr=0.3, epochs=1000):  \n",
    "        self.lr = lr\n",
    "        self.epochs = epochs\n",
    "        self.intercept_ = None\n",
    "        self.coef_ = None\n",
    "\n",
    "    def fit(self, X_train, y_train):\n",
    "        self.intercept_ = 0                           # The normal convention is to initiliaze the intercept to 0 and coef to 1\n",
    "        self.coef_ = np.ones(Xtrain.shape[1])\n",
    "        \n",
    "        \n",
    "        for i in range(self.epochs):\n",
    "\n",
    "            y_hat = self.intercept_ + np.dot(X_train,self.coef_)\n",
    "            der_inter = -2 * np.mean(y_train - y_hat)          # As per the formula shown in the cell above\n",
    "    \n",
    "            # Update parameters\n",
    "            self.intercept_ = self.intercept_ - (self.lr * der_inter)\n",
    "\n",
    "            der_coef = -2/X_train.shape[0] * (np.dot((y_train - y_hat),X_train))\n",
    "            self.coef_ = self.coef_ - (self.lr * der_coef)\n",
    "            \n",
    "        return (self.intercept_,self.coef_)\n",
    "       \n",
    "\n",
    "    def predict(self, Xtest):\n",
    "        return np.dot(Xtest,self.coef_) + self.intercept_\n"
   ]
  },
  {
   "cell_type": "code",
   "execution_count": 21,
   "id": "7bd89f69-134f-45ca-b1be-6dcce0d75c59",
   "metadata": {},
   "outputs": [],
   "source": [
    "gd = GdRegressor()\n",
    "intercept,coef = gd.fit(Xtrain,ytrain)"
   ]
  },
  {
   "cell_type": "code",
   "execution_count": 22,
   "id": "5e973a3c-e376-4ff2-87b1-e2ba289e0501",
   "metadata": {},
   "outputs": [],
   "source": [
    "predit = gd.predict(Xtest)"
   ]
  },
  {
   "cell_type": "code",
   "execution_count": 23,
   "id": "7feb6af6-2386-4337-85c9-9591593d1bd3",
   "metadata": {},
   "outputs": [
    {
     "data": {
      "text/plain": [
       "0.45122588660678"
      ]
     },
     "execution_count": 23,
     "metadata": {},
     "output_type": "execute_result"
    }
   ],
   "source": [
    "r2s = r2_score(ytest,predit)\n",
    "r2s"
   ]
  },
  {
   "cell_type": "code",
   "execution_count": 14,
   "id": "739a3c97-0dcd-484f-9765-788293a899bb",
   "metadata": {},
   "outputs": [
    {
     "name": "stdout",
     "output_type": "stream",
     "text": [
      "60\n"
     ]
    }
   ],
   "source": [
    "count = 0\n",
    "all_r2Score = []\n",
    "for i in np.linspace(0.01, 0.9, 60):\n",
    "    count +=1 \n",
    "    gd = GdRegressor(lr=i, epochs=1000)\n",
    "    gd.fit(Xtrain, ytrain)\n",
    "    predictions = gd.predict(Xtest)\n",
    "    score = r2_score(ytest, predictions)\n",
    "    all_r2Score.append((float(i), float(score)))\n",
    "print(count)"
   ]
  },
  {
   "cell_type": "code",
   "execution_count": 15,
   "id": "5068f422-56ef-4195-9ff4-eb3d1e9afa6b",
   "metadata": {},
   "outputs": [
    {
     "data": {
      "text/html": [
       "<div>\n",
       "<style scoped>\n",
       "    .dataframe tbody tr th:only-of-type {\n",
       "        vertical-align: middle;\n",
       "    }\n",
       "\n",
       "    .dataframe tbody tr th {\n",
       "        vertical-align: top;\n",
       "    }\n",
       "\n",
       "    .dataframe thead th {\n",
       "        text-align: right;\n",
       "    }\n",
       "</style>\n",
       "<table border=\"1\" class=\"dataframe\">\n",
       "  <thead>\n",
       "    <tr style=\"text-align: right;\">\n",
       "      <th></th>\n",
       "      <th>0</th>\n",
       "      <th>1</th>\n",
       "    </tr>\n",
       "  </thead>\n",
       "  <tbody>\n",
       "    <tr>\n",
       "      <th>27</th>\n",
       "      <td>0.417288</td>\n",
       "      <td>0.453978</td>\n",
       "    </tr>\n",
       "  </tbody>\n",
       "</table>\n",
       "</div>"
      ],
      "text/plain": [
       "           0         1\n",
       "27  0.417288  0.453978"
      ]
     },
     "execution_count": 15,
     "metadata": {},
     "output_type": "execute_result"
    }
   ],
   "source": [
    "df = pd.DataFrame(all_r2Score)\n",
    "maxValue = df[df[1] == df[1].max()]\n",
    "maxValue"
   ]
  },
  {
   "cell_type": "code",
   "execution_count": 16,
   "id": "095fd083-441a-4266-8258-5b34a80429cd",
   "metadata": {},
   "outputs": [
    {
     "name": "stdout",
     "output_type": "stream",
     "text": [
      "60\n"
     ]
    }
   ],
   "source": [
    "accuracyScore = [s[1] for s in all_r2Score]\n",
    "print(len(accuracyScore))"
   ]
  },
  {
   "cell_type": "code",
   "execution_count": 17,
   "id": "3a49fde4-3f64-42a9-8ee9-ba2487ec3201",
   "metadata": {},
   "outputs": [
    {
     "name": "stdout",
     "output_type": "stream",
     "text": [
      "Max accuracy is at learning rate:  0.41728813559322037\n",
      "Accuracy Score is:  0.45397812138675997\n"
     ]
    }
   ],
   "source": [
    "maxAccuracyScore = max(accuracyScore)\n",
    "index = accuracyScore.index(maxAccuracyScore)\n",
    "lr_max = all_r2Score[27][0]\n",
    "print(f\"Max accuracy is at learning rate: \",lr_max)\n",
    "print(\"Accuracy Score is: \",maxAccuracyScore)\n"
   ]
  },
  {
   "cell_type": "code",
   "execution_count": null,
   "id": "bf87a219-1694-4515-9390-fa2ff51148cf",
   "metadata": {},
   "outputs": [],
   "source": []
  }
 ],
 "metadata": {
  "kernelspec": {
   "display_name": "Python 3 (ipykernel)",
   "language": "python",
   "name": "python3"
  },
  "language_info": {
   "codemirror_mode": {
    "name": "ipython",
    "version": 3
   },
   "file_extension": ".py",
   "mimetype": "text/x-python",
   "name": "python",
   "nbconvert_exporter": "python",
   "pygments_lexer": "ipython3",
   "version": "3.11.4"
  }
 },
 "nbformat": 4,
 "nbformat_minor": 5
}
