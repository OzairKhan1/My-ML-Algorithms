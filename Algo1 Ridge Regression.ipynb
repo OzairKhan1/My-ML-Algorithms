{
 "cells": [
  {
   "cell_type": "code",
   "execution_count": 63,
   "id": "c643fed0-1ba0-4322-9e7e-34f31697785f",
   "metadata": {},
   "outputs": [],
   "source": [
    "import numpy as np\n",
    "import pandas as pd\n",
    "import seaborn as sns\n",
    "import matplotlib.pyplot as plt\n",
    "\n",
    "\n",
    "\n",
    "from sklearn.model_selection import train_test_split, KFold, cross_val_score\n",
    "from sklearn.metrics import r2_score,mean_squared_error\n",
    "from sklearn.linear_model import earReLingression,Ridge\n",
    "from sklearn.datasets import make_regression"
   ]
  },
  {
   "cell_type": "code",
   "execution_count": 37,
   "id": "66b1e5d5-634e-456e-b7cb-a26d6bf6bbb7",
   "metadata": {},
   "outputs": [],
   "source": [
    "X, y = make_regression(n_samples=500,n_features=3,n_informative=1,n_targets = 1,noise = 10)"
   ]
  },
  {
   "cell_type": "code",
   "execution_count": null,
   "id": "8920fa94-e305-4c2f-935d-d3c816595d82",
   "metadata": {},
   "outputs": [],
   "source": []
  },
  {
   "cell_type": "code",
   "execution_count": 38,
   "id": "ec1082d5-d258-42c6-82ac-db3f70c460ed",
   "metadata": {},
   "outputs": [],
   "source": [
    "X_train,X_test,y_train,y_test = train_test_split(X,y,test_size=0.2,random_state=2)"
   ]
  },
  {
   "cell_type": "code",
   "execution_count": 39,
   "id": "d958708b-8e3f-4cc4-8e04-0edd77b770a6",
   "metadata": {},
   "outputs": [
    {
     "data": {
      "text/plain": [
       "0.9907276797308749"
      ]
     },
     "execution_count": 39,
     "metadata": {},
     "output_type": "execute_result"
    }
   ],
   "source": [
    "lr = LinearRegression()\n",
    "lr.fit(X_train,y_train)\n",
    "pr = lr.predict(X_test)\n",
    "rss = r2_score(y_test,pr)\n",
    "rss"
   ]
  },
  {
   "cell_type": "markdown",
   "id": "d7bf75c7-ca59-4c0e-8a23-f05723932006",
   "metadata": {},
   "source": [
    "## MY Ridge Regression"
   ]
  },
  {
   "cell_type": "code",
   "execution_count": 56,
   "id": "5f5fc665-4f41-444e-b4fc-b9e70b3a406b",
   "metadata": {},
   "outputs": [],
   "source": [
    "class RidgeReg:\n",
    "\n",
    "    def __init__(self,alpha = 0.01):\n",
    "        self.weights = None\n",
    "        self.coef = None\n",
    "        self.intercept = None\n",
    "        self.alpha = alpha\n",
    "\n",
    "    def fit(self,X_train,y_train):\n",
    "        X_train = np.insert(X_train,0,1,axis = 1)\n",
    "        identity = np.identity(X_train.shape[1])\n",
    "        self.weights = np.ones(X_train.shape[1])\n",
    "\n",
    "        self.weights = np.linalg.inv(np.dot(X_train.T,X_train) + self.alpha * identity) @ np.dot(X_train.T,y_train)\n",
    "\n",
    "        self.intercept = self.weights[0]\n",
    "        self.coef = self.weights[1:]\n",
    "        # print(self.intercept)\n",
    "        # print(self.coef)\n",
    "\n",
    "    def predict(self, X_test):\n",
    "        return np.dot(X_test,self.coef) + self.intercept\n",
    "    \n",
    "        "
   ]
  },
  {
   "cell_type": "code",
   "execution_count": 62,
   "id": "51c4d3c6-5e76-44db-bf9f-80f24c0a087b",
   "metadata": {},
   "outputs": [
    {
     "name": "stdout",
     "output_type": "stream",
     "text": [
      "The Coeficient Using My Ridge Regression are:  [13.89263394  1.40077569 -0.55421601]\n",
      "The Intercept Using My Ridge Regression is:  0.2505279960375094\n",
      "The R2 Score Using My Ridge Regression is:  0.2772863751341491\n"
     ]
    }
   ],
   "source": [
    "myRidge = RidgeReg(alpha = 2000)\n",
    "myRidge.fit(X_train,y_train)\n",
    "myPred = myRidge.predict(X_test)\n",
    "MyR2score = r2_score(y_test,myPred)\n",
    "\n",
    "\n",
    "print(\"The Coeficient Using My Ridge Regression are: \",myRidge.coef)\n",
    "print(\"The Intercept Using My Ridge Regression is: \",myRidge.intercept)\n",
    "print(\"The R2 Score Using My Ridge Regression is: \",MyR2score)"
   ]
  },
  {
   "cell_type": "markdown",
   "id": "30a670df-0f36-470d-8400-0008376d25de",
   "metadata": {},
   "source": [
    "## Using Ridge Regression from Sklearn"
   ]
  },
  {
   "cell_type": "code",
   "execution_count": 58,
   "id": "19283462-9427-49ba-b26c-65d1a89f51a9",
   "metadata": {},
   "outputs": [
    {
     "name": "stdout",
     "output_type": "stream",
     "text": [
      "The Coeficient Using Ridge Regression from Skearn are:  [13.88959035  1.41426661 -0.54200553]\n",
      "The Intercept Using Ridge Regression from Sklearn is:  1.5047979819449546\n",
      "The R2 Score Using Ridge Regression from Sklearn is:  0.2743518320330782\n"
     ]
    }
   ],
   "source": [
    "rs = Ridge(alpha = 2000)         # This high value is to findout that the \n",
    "rs.fit(X_train,y_train)\n",
    "rpred = rs.predict(X_test)\n",
    "r2score = r2_score(y_test,rpred)\n",
    "\n",
    "print(\"The Coeficient Using Ridge Regression from Skearn are: \",rs.coef_)\n",
    "print(\"The Intercept Using Ridge Regression from Sklearn is: \",rs.intercept_)\n",
    "print(\"The R2 Score Using Ridge Regression from Sklearn is: \",r2score)"
   ]
  },
  {
   "cell_type": "code",
   "execution_count": null,
   "id": "88fb0d28-fe2a-4af1-919d-b6e1d5788320",
   "metadata": {},
   "outputs": [],
   "source": []
  },
  {
   "cell_type": "code",
   "execution_count": null,
   "id": "e510e56d-20f6-4afe-9e9e-8f8c75181096",
   "metadata": {},
   "outputs": [],
   "source": []
  }
 ],
 "metadata": {
  "kernelspec": {
   "display_name": "Python 3 (ipykernel)",
   "language": "python",
   "name": "python3"
  },
  "language_info": {
   "codemirror_mode": {
    "name": "ipython",
    "version": 3
   },
   "file_extension": ".py",
   "mimetype": "text/x-python",
   "name": "python",
   "nbconvert_exporter": "python",
   "pygments_lexer": "ipython3",
   "version": "3.11.4"
  }
 },
 "nbformat": 4,
 "nbformat_minor": 5
}
