{
 "cells": [
  {
   "cell_type": "markdown",
   "id": "5c3082e3-8e23-4091-bb18-b301a78a0e12",
   "metadata": {},
   "source": [
    "# Stochastic Gradient Descent for nd data and linear Regression "
   ]
  },
  {
   "cell_type": "code",
   "execution_count": null,
   "id": "12364535-e4cf-4772-bb7a-338aa3decaac",
   "metadata": {},
   "outputs": [],
   "source": [
    "import numpy as np\n",
    "import pandas as pd\n",
    "import matplotlib.pyplot as plt\n",
    "from sklearn.linear_model import LinearRegression\n",
    "from sklearn.model_selection import train_test_split\n",
    "from sklearn.datasets import make_regression\n",
    "from sklearn.metrics import r2_score\n",
    "from sklearn.datasets import load_diabetes"
   ]
  },
  {
   "cell_type": "code",
   "execution_count": 6,
   "id": "0744f45c-5550-4293-bf30-303b32397d19",
   "metadata": {},
   "outputs": [],
   "source": [
    "X,y = load_diabetes(return_X_y=True)"
   ]
  },
  {
   "cell_type": "code",
   "execution_count": 7,
   "id": "e12e9ad0-111a-43c9-9ed1-5971fc5b44a6",
   "metadata": {},
   "outputs": [
    {
     "data": {
      "text/plain": [
       "(442, 10)"
      ]
     },
     "execution_count": 7,
     "metadata": {},
     "output_type": "execute_result"
    }
   ],
   "source": [
    "X.shape"
   ]
  },
  {
   "cell_type": "code",
   "execution_count": 8,
   "id": "eab06973-2c28-4350-9952-0a438ca42889",
   "metadata": {},
   "outputs": [],
   "source": [
    "Xtrain,Xtest,ytrain,ytest = train_test_split(X,y,test_size=0.2,random_state = 2)"
   ]
  },
  {
   "cell_type": "code",
   "execution_count": 9,
   "id": "c46953ad-8df4-48c7-858c-98d8b05968f9",
   "metadata": {},
   "outputs": [
    {
     "name": "stdout",
     "output_type": "stream",
     "text": [
      "Coefiecent:  [  -9.15865318 -205.45432163  516.69374454  340.61999905 -895.5520019\n",
      "  561.22067904  153.89310954  126.73139688  861.12700152   52.42112238]\n",
      "\n",
      "Intercept:  151.88331005254167\n"
     ]
    }
   ],
   "source": [
    "lr = LinearRegression()\n",
    "lr.fit(Xtrain,ytrain)\n",
    "print(\"Coefiecent: \",lr.coef_)\n",
    "print()\n",
    "print(\"Intercept: \",lr.intercept_)"
   ]
  },
  {
   "cell_type": "code",
   "execution_count": 10,
   "id": "2be48999-d926-4807-af76-4321de39afa3",
   "metadata": {},
   "outputs": [],
   "source": [
    "predit = lr.predict(Xtest)"
   ]
  },
  {
   "cell_type": "code",
   "execution_count": 11,
   "id": "05ac2dc3-d4cb-4408-a989-544eb35a7608",
   "metadata": {},
   "outputs": [
    {
     "data": {
      "text/plain": [
       "0.4399338661568968"
      ]
     },
     "execution_count": 11,
     "metadata": {},
     "output_type": "execute_result"
    }
   ],
   "source": [
    "r2s = r2_score(ytest,predit)\n",
    "r2s"
   ]
  },
  {
   "cell_type": "markdown",
   "id": "5980135c-2a0d-49c5-b1b4-9e37ab3176c2",
   "metadata": {},
   "source": [
    "# MY Class for Stochastic Gradient Descent"
   ]
  },
  {
   "cell_type": "markdown",
   "id": "3a61fc6e-058b-4885-a81e-97208f0622aa",
   "metadata": {},
   "source": [
    "#### The Summation is incorporated by the dot product while calculation gradients"
   ]
  },
  {
   "cell_type": "raw",
   "id": "e41ed770-6c7e-4107-ab91-475e855dea87",
   "metadata": {},
   "source": [
    "The above 2 formulas will be used to update the slopes for the next iteration. The coefficient matrix contains the number of cols in the input"
   ]
  },
  {
   "cell_type": "code",
   "execution_count": 32,
   "id": "8ad49aee-93b8-4139-9b5b-9e568750af7c",
   "metadata": {},
   "outputs": [],
   "source": [
    "class GdRegressor:\n",
    "    def __init__(self,lr=0.5, epochs= 200):  \n",
    "        self.lr = lr\n",
    "        self.epochs = epochs\n",
    "        self.intercept_ = None\n",
    "        self.coef_ = None\n",
    "\n",
    "    def fit(self, X_train, y_train):\n",
    "        self.intercept_ = 0                           # The normal convention is to initiliaze the intercept to 0 and coef to 1\n",
    "        self.coef_ = np.ones(Xtrain.shape[1])\n",
    "        \n",
    "        \n",
    "        for i in range(self.epochs):\n",
    "            \n",
    "            for j in range(X_train.shape[0]):        # There are n updates per epoch where n is the number of rows in the data set\n",
    "                idx = np.random.randint(0,Xtrain.shape[0])\n",
    "                y_hat = self.intercept_ + np.dot(X_train[idx],self.coef_)\n",
    "        \n",
    "                # Update parameters\n",
    "\n",
    "                der_inter = -2 * (y_train[idx] - y_hat) \n",
    "                self.intercept_ = self.intercept_ - (self.lr * der_inter)\n",
    "                \n",
    "                der_coef = -2 * np.dot((y_train[idx] - y_hat), Xtrain[idx])\n",
    "                self.coef_ = self.coef_ - (self.lr * der_coef)\n",
    "            \n",
    "        print(self.coef_)\n",
    "        print()\n",
    "        print(self.intercept_)\n",
    "       \n",
    "\n",
    "    def predict(self, Xtest):\n",
    "        return np.dot(Xtest,self.coef_) + self.intercept_\n"
   ]
  },
  {
   "cell_type": "code",
   "execution_count": 33,
   "id": "7bd89f69-134f-45ca-b1be-6dcce0d75c59",
   "metadata": {},
   "outputs": [
    {
     "name": "stdout",
     "output_type": "stream",
     "text": [
      "[  -5.08749061 -119.08831913  510.89482782  276.80364194 -637.4519471\n",
      "  357.35228728  -36.10960698  121.00847301  831.38193957  106.69835397]\n",
      "\n",
      "132.02325905890584\n"
     ]
    }
   ],
   "source": [
    "gd = GdRegressor()\n",
    "gd.fit(Xtrain,ytrain)"
   ]
  },
  {
   "cell_type": "code",
   "execution_count": 34,
   "id": "5e973a3c-e376-4ff2-87b1-e2ba289e0501",
   "metadata": {},
   "outputs": [],
   "source": [
    "predit = gd.predict(Xtest)"
   ]
  },
  {
   "cell_type": "code",
   "execution_count": 35,
   "id": "7feb6af6-2386-4337-85c9-9591593d1bd3",
   "metadata": {},
   "outputs": [
    {
     "data": {
      "text/plain": [
       "0.3515425128142735"
      ]
     },
     "execution_count": 35,
     "metadata": {},
     "output_type": "execute_result"
    }
   ],
   "source": [
    "r2s = r2_score(ytest,predit)\n",
    "r2s"
   ]
  },
  {
   "cell_type": "code",
   "execution_count": null,
   "id": "739a3c97-0dcd-484f-9765-788293a899bb",
   "metadata": {},
   "outputs": [
    {
     "name": "stdout",
     "output_type": "stream",
     "text": [
      "[  -8.9038088  -200.54228055  540.16747359  340.2574707  -135.74771381\n",
      "  -51.34758186 -170.46511097   59.89724312  566.67022258   54.30612241]\n",
      "\n",
      "156.49710590335974\n",
      "[ -11.17721692 -188.3079499   527.92153585  345.36713366 -281.0538018\n",
      "   76.84370109 -110.5917789    74.37388676  622.35299118   69.13075781]\n",
      "\n",
      "127.0173963493654\n"
     ]
    }
   ],
   "source": [
    "count = 0\n",
    "all_r2Score = []\n",
    "for i in np.linspace(0.01, 0.9, 60):\n",
    "    count +=1 \n",
    "    gd = GdRegressor(lr=i, epochs=1000)\n",
    "    gd.fit(Xtrain, ytrain)\n",
    "    predictions = gd.predict(Xtest)\n",
    "    score = r2_score(ytest, predictions)\n",
    "    all_r2Score.append((float(i), float(score)))\n",
    "print(count)"
   ]
  },
  {
   "cell_type": "code",
   "execution_count": null,
   "id": "5068f422-56ef-4195-9ff4-eb3d1e9afa6b",
   "metadata": {},
   "outputs": [],
   "source": [
    "df = pd.DataFrame(all_r2Score)\n",
    "cols = {0:'Learning Rate',1:'R2_Score'}          # for cols replacement \n",
    "df = df.rename(columns = cols)\n",
    "maxValue = df[df['R2_Score'] == df['R2_Score'].max()]\n",
    "maxValue"
   ]
  },
  {
   "cell_type": "code",
   "execution_count": null,
   "id": "095fd083-441a-4266-8258-5b34a80429cd",
   "metadata": {
    "scrolled": true
   },
   "outputs": [],
   "source": [
    "\n"
   ]
  },
  {
   "cell_type": "code",
   "execution_count": 18,
   "id": "3a49fde4-3f64-42a9-8ee9-ba2487ec3201",
   "metadata": {},
   "outputs": [
    {
     "name": "stdout",
     "output_type": "stream",
     "text": [
      "Max accuracy is at learning rate:  0.41728813559322037\n",
      "Accuracy Score is:  0.44178636412753125\n"
     ]
    }
   ],
   "source": [
    "accuracyScore = [s[1] for s in all_r2Score]\n",
    "maxAccuracyScore = max(accuracyScore)\n",
    "index = accuracyScore.index(maxAccuracyScore)\n",
    "lr_max = all_r2Score[27][0]\n",
    "print(f\"Max accuracy is at learning rate: \",lr_max)\n",
    "print(\"Accuracy Score is: \",maxAccuracyScore)\n"
   ]
  },
  {
   "cell_type": "code",
   "execution_count": null,
   "id": "ab08d35a-7440-4348-9c86-2a7aeb37ada2",
   "metadata": {},
   "outputs": [],
   "source": []
  }
 ],
 "metadata": {
  "kernelspec": {
   "display_name": "Python 3 (ipykernel)",
   "language": "python",
   "name": "python3"
  },
  "language_info": {
   "codemirror_mode": {
    "name": "ipython",
    "version": 3
   },
   "file_extension": ".py",
   "mimetype": "text/x-python",
   "name": "python",
   "nbconvert_exporter": "python",
   "pygments_lexer": "ipython3",
   "version": "3.11.4"
  }
 },
 "nbformat": 4,
 "nbformat_minor": 5
}
